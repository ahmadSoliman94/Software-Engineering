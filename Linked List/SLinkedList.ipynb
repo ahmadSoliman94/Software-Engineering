{
 "cells": [
  {
   "cell_type": "code",
   "execution_count": 4,
   "metadata": {},
   "outputs": [],
   "source": [
    "# create a node class\n",
    "class Node: \n",
    "\n",
    "    # Function to initialize the node object\n",
    "    def __init__(self, value=None):\n",
    "\n",
    "        self.value = value  # the value at this linked list node\n",
    "        self.next = None # we don't know what the next node is yet. and not let the user to instert the next node.\n",
    "\n",
    "\n",
    "# create a linked list class\n",
    "class LinkedList:\n",
    "\n",
    "    # Function to initialize the Linked List object\n",
    "    def __init__(self):  \n",
    "\n",
    "        # the first node in the linked list\n",
    "        self.head = None\n",
    "\n",
    "        # the last node in the linked list\n",
    "        self.tail = None\n",
    "    \n",
    "    \n",
    "    def __iter__(self):\n",
    "\n",
    "        ''' this method is used to iterate through the linked list '''\n",
    "\n",
    "        node = self.head # we set the node to the head of the linked list\n",
    "        while node: # while node is not null \n",
    "\n",
    "            '''\n",
    "            yield: is used to return from a function without destroying the states of its local variable and when the function is called, the execution starts from the last yield statement.\n",
    "            return: return statement terminates a function entirely. the yield statement pauses the function saving all its states and later continues from there on successive calls.\n",
    "            '''\n",
    "\n",
    "            yield node # yield the node so here the function stops here temporarily and then it will continue from here on the next iteration.\n",
    "            node = node.next\n",
    "\n",
    "    def insertSLL(self, value, location):\n",
    "\n",
    "        ''' \n",
    "        This method is used to insert a node in a Linked List.\n",
    "\n",
    "        Parameters:\n",
    "            value: the value that we want to insert in the linked list\n",
    "            location: the location where we want to insert the node\n",
    "\n",
    "\n",
    "        here we have 4 cases:\n",
    "        1. if the linked list is empty\n",
    "        2. if the location is firts element.\n",
    "        3. if the location is last element.\n",
    "        4. if the location is in between the linked list.\n",
    "\n",
    "        '''\n",
    "\n",
    "        newNode = Node(value) # create a new node with the value that we want to insert in the linked list\n",
    "\n",
    "        # if the linked list is empty\n",
    "        if self.head is None:\n",
    "            self.head = newNode # set the head from the class Node to the newNode.\n",
    "            self.tail = newNode # set the tail from the class Node to the newNode.\n",
    "\n",
    "        # other wise \n",
    "        if location == 0: # if the location is 0\n",
    "            newNode.next = self.head # set the next node from the newNode to the head of the linked list\n",
    "            self.head = newNode # set self.head to the newNode because the newNode is the head of the linked list. \n",
    "\n",
    "        elif location == -1: # if the location is -1 means the last element. \n",
    "            newNode.next = None # set the next node from the newNode to None because the newNode is the tail of the linked list\n",
    "            self.tail.next = newNode # set the next node from the tail of the linked list to the newNode\n",
    "            self.tail = newNode # set the tail from the class Node to the newNode.\n",
    "        \n",
    "        else: # if the location is in between the linked list.\n",
    "            tempNode = self.head # set the tempNode to the head of the linked list, = self.head because we want to start from the head of the linked list.\n",
    "            index = 0 # set the index to 0\n",
    "            while index < location - 1: # while the index is less than the location - 1\n",
    "                tempNode = tempNode.next # set the tempNode to the next node from the tempNode\n",
    "                index += 1 # increment the index by 1\n",
    "            nextNode = tempNode.next # set the nextNode to the next node from the tempNode\n",
    "            tempNode.next = newNode # set the next node from the tempNode to the newNode\n",
    "            newNode.next = nextNode # set the next node from the newNode to the nextNode\n",
    "\n",
    "\n",
    "\n",
    "\n"
   ]
  },
  {
   "cell_type": "code",
   "execution_count": 5,
   "metadata": {},
   "outputs": [],
   "source": [
    "first_node = Node(1) # create a node with value 1\n",
    "second_node = Node(2) # create a node with value 2"
   ]
  },
  {
   "cell_type": "code",
   "execution_count": 6,
   "metadata": {},
   "outputs": [
    {
     "name": "stdout",
     "output_type": "stream",
     "text": [
      "<__main__.Node object at 0x7f21f8352140>\n"
     ]
    }
   ],
   "source": [
    "print(first_node) # return the address of the node (reference in memory)."
   ]
  },
  {
   "cell_type": "code",
   "execution_count": 7,
   "metadata": {},
   "outputs": [],
   "source": [
    "linked_list = LinkedList() # create a linked list object.\n",
    "linked_list.head = first_node # set the head of the linked list to be the first node. we access the head of the linked list and set it to the first node."
   ]
  },
  {
   "cell_type": "code",
   "execution_count": 8,
   "metadata": {},
   "outputs": [],
   "source": [
    "linked_list.head.next = second_node # the next node of the first node is the second node."
   ]
  },
  {
   "cell_type": "code",
   "execution_count": 9,
   "metadata": {},
   "outputs": [],
   "source": [
    "linked_list.tail = second_node # the tail is the last node in the linked list."
   ]
  },
  {
   "cell_type": "code",
   "execution_count": 11,
   "metadata": {},
   "outputs": [
    {
     "name": "stdout",
     "output_type": "stream",
     "text": [
      "[1, 2]\n"
     ]
    }
   ],
   "source": [
    "print([node.value for node in linked_list]) # we use .value to get the value of the node. (for node in linked_list) is the same as (for node in linked_list.__iter__())"
   ]
  },
  {
   "cell_type": "code",
   "execution_count": null,
   "metadata": {},
   "outputs": [],
   "source": []
  }
 ],
 "metadata": {
  "kernelspec": {
   "display_name": "se",
   "language": "python",
   "name": "python3"
  },
  "language_info": {
   "codemirror_mode": {
    "name": "ipython",
    "version": 3
   },
   "file_extension": ".py",
   "mimetype": "text/x-python",
   "name": "python",
   "nbconvert_exporter": "python",
   "pygments_lexer": "ipython3",
   "version": "3.10.11"
  },
  "orig_nbformat": 4
 },
 "nbformat": 4,
 "nbformat_minor": 2
}
