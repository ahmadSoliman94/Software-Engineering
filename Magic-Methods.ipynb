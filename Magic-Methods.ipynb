{
 "cells": [
  {
   "cell_type": "markdown",
   "id": "0355bae4-242b-4e7d-a947-0a6841d8fd78",
   "metadata": {},
   "source": [
    "# 1. Magic Methods"
   ]
  },
  {
   "cell_type": "markdown",
   "id": "302ebe25-5e49-4feb-ab4c-1659d5951e1e",
   "metadata": {},
   "source": [
    "### init (Constructor)\n",
    "This method is different from other methods because it gets called automatically for you when you create a new object"
   ]
  },
  {
   "cell_type": "code",
   "execution_count": 2,
   "id": "87e906ff-17e2-4380-8af1-635a0b220c07",
   "metadata": {
    "tags": []
   },
   "outputs": [],
   "source": [
    "class Student:\n",
    "    def __init__(self, name,age):\n",
    "        self.name = name\n",
    "        self.age = age"
   ]
  },
  {
   "cell_type": "code",
   "execution_count": 3,
   "id": "43559ba5-1c0a-4403-8af1-f50e4c653a55",
   "metadata": {
    "tags": []
   },
   "outputs": [
    {
     "data": {
      "text/plain": [
       "('Ali', 20)"
      ]
     },
     "execution_count": 3,
     "metadata": {},
     "output_type": "execute_result"
    }
   ],
   "source": [
    "my_student_1 = Student(\"Ali\",20)\n",
    "my_student_2 = Student(\"Mohammad\",30)\n",
    "\n",
    "my_student_1.name , my_student_1.age"
   ]
  },
  {
   "cell_type": "code",
   "execution_count": 28,
   "id": "38e2b747-f2af-4676-8725-e7faea6cfc7a",
   "metadata": {
    "tags": []
   },
   "outputs": [
    {
     "data": {
      "text/plain": [
       "{'name': 'Mohammad', 'age': 30}"
      ]
     },
     "execution_count": 28,
     "metadata": {},
     "output_type": "execute_result"
    }
   ],
   "source": [
    "my_student_2.__dict__"
   ]
  },
  {
   "cell_type": "code",
   "execution_count": 4,
   "id": "1e5de099-73d0-4f95-a35c-7ed34b96efba",
   "metadata": {
    "tags": []
   },
   "outputs": [
    {
     "name": "stdout",
     "output_type": "stream",
     "text": [
      "<class 'list'>\n"
     ]
    },
    {
     "data": {
      "text/plain": [
       "2"
      ]
     },
     "execution_count": 4,
     "metadata": {},
     "output_type": "execute_result"
    }
   ],
   "source": [
    "movies = [\"Matrix\", \"John Wick\"]\n",
    "\n",
    "print(movies.__class__)  # what's this?\n",
    "\n",
    "len(movies)"
   ]
  },
  {
   "cell_type": "markdown",
   "id": "65ea0aac-b374-47a7-98f7-3bf048083486",
   "metadata": {},
   "source": [
    "### len\n",
    "We can make `len()` work on our classes too, by adding the `__len__` method:"
   ]
  },
  {
   "cell_type": "code",
   "execution_count": 10,
   "id": "14105429-0a1d-4b85-aacb-a689d285cda9",
   "metadata": {
    "tags": []
   },
   "outputs": [],
   "source": [
    "class Garage:\n",
    "    def __init__(self):\n",
    "        self.cars = []\n",
    "\n",
    "    def __len__(self):\n",
    "        return len(self.cars)"
   ]
  },
  {
   "cell_type": "code",
   "execution_count": 11,
   "id": "223afb45-16b5-4587-972b-b0ae32cf1b8a",
   "metadata": {
    "tags": []
   },
   "outputs": [
    {
     "data": {
      "text/plain": [
       "2"
      ]
     },
     "execution_count": 11,
     "metadata": {},
     "output_type": "execute_result"
    }
   ],
   "source": [
    "ford_garage = Garage()\n",
    "ford_garage.cars.append(\"Fiesta\")\n",
    "ford_garage.cars.append(\"Focus\")\n",
    "\n",
    "len(ford_garage)"
   ]
  },
  {
   "cell_type": "markdown",
   "id": "f8cc0f2b-7038-414e-8b88-d62d68c8e227",
   "metadata": {},
   "source": [
    "#### We can also use square bracket notation (Slicing) in Class"
   ]
  },
  {
   "cell_type": "code",
   "execution_count": 70,
   "id": "c0db7bf4-b729-4a19-b1e2-d50159804a0b",
   "metadata": {
    "tags": []
   },
   "outputs": [],
   "source": [
    "class Garage:\n",
    "    def __init__(self):\n",
    "        self.cars = []\n",
    "\n",
    "    def __len__(self):\n",
    "        return len(self.cars)\n",
    "\n",
    "    def __getitem__(self, i):\n",
    "        return self.cars[i]\n"
   ]
  },
  {
   "cell_type": "code",
   "execution_count": 71,
   "id": "baeac55d-37ce-402a-bce4-e26a5f80cbcc",
   "metadata": {
    "tags": []
   },
   "outputs": [
    {
     "name": "stdout",
     "output_type": "stream",
     "text": [
      "Focus\n"
     ]
    }
   ],
   "source": [
    "ford_garage = Garage()\n",
    "ford_garage.cars.append(\"Fiesta\")\n",
    "ford_garage.cars.append(\"Focus\")\n",
    "\n",
    "print(ford_garage[1])"
   ]
  },
  {
   "cell_type": "markdown",
   "id": "ceabb2d8-c6e1-4502-887d-e8f7ec3c7871",
   "metadata": {},
   "source": [
    "#### A great thing about this is now you can iterate over the garage using a for loop. To do this you need both `__len__` and `__getitem__`:\n"
   ]
  },
  {
   "cell_type": "code",
   "execution_count": 42,
   "id": "c32e6441-37a8-4560-8d11-2403f72c12b3",
   "metadata": {
    "tags": []
   },
   "outputs": [
    {
     "name": "stdout",
     "output_type": "stream",
     "text": [
      "Fiesta\n",
      "Focus\n"
     ]
    }
   ],
   "source": [
    "for car in ford_garage:\n",
    "    print(car)"
   ]
  },
  {
   "cell_type": "code",
   "execution_count": 72,
   "id": "79e6a573-ed08-44cd-ab28-7fa11ea1e8f1",
   "metadata": {
    "tags": []
   },
   "outputs": [
    {
     "ename": "TypeError",
     "evalue": "'Garage' object does not support item assignment",
     "output_type": "error",
     "traceback": [
      "\u001b[0;31m---------------------------------------------------------------------------\u001b[0m",
      "\u001b[0;31mTypeError\u001b[0m                                 Traceback (most recent call last)",
      "Cell \u001b[0;32mIn[72], line 1\u001b[0m\n\u001b[0;32m----> 1\u001b[0m \u001b[43mford_garage\u001b[49m\u001b[43m[\u001b[49m\u001b[38;5;241;43m1\u001b[39;49m\u001b[43m]\u001b[49m\u001b[38;5;241m=\u001b[39m \u001b[38;5;124m\"\u001b[39m\u001b[38;5;124mOther\u001b[39m\u001b[38;5;124m\"\u001b[39m\n",
      "\u001b[0;31mTypeError\u001b[0m: 'Garage' object does not support item assignment"
     ]
    }
   ],
   "source": [
    "ford_garage[1]= \"Other\""
   ]
  },
  {
   "cell_type": "markdown",
   "id": "9b6c8703-a7fb-4456-b34b-84442e7db672",
   "metadata": {
    "tags": []
   },
   "source": [
    "### setitem Method"
   ]
  },
  {
   "cell_type": "markdown",
   "id": "89264d2f-e81c-454a-a414-7dc69aca6b6d",
   "metadata": {},
   "source": [
    "__setitem__ method is used to set the item into a specific index of the invoked instances’ attribute. Similar to __getitem__, __setitem__ is also used with containers."
   ]
  },
  {
   "cell_type": "code",
   "execution_count": 76,
   "id": "a6fcb729-e526-4428-840b-c6e08d7c22a6",
   "metadata": {
    "tags": []
   },
   "outputs": [],
   "source": [
    "class Garage:\n",
    "    def __init__(self):\n",
    "        self.cars = []\n",
    "\n",
    "    def __len__(self):\n",
    "        return len(self.cars)\n",
    "\n",
    "    def __getitem__(self, i):\n",
    "        return self.cars[i]    \n",
    "    \n",
    "    def __setitem__(self, index, car):\n",
    "        self.cars[index] = car"
   ]
  },
  {
   "cell_type": "code",
   "execution_count": 79,
   "id": "6549a1de-210d-4d8f-938e-dd5343504d55",
   "metadata": {
    "tags": []
   },
   "outputs": [
    {
     "name": "stdout",
     "output_type": "stream",
     "text": [
      "{'cars': ['Fiesta', 'Focus']}\n"
     ]
    },
    {
     "data": {
      "text/plain": [
       "{'cars': ['Fiesta', 'Other']}"
      ]
     },
     "execution_count": 79,
     "metadata": {},
     "output_type": "execute_result"
    }
   ],
   "source": [
    "ford_garage = Garage()\n",
    "ford_garage.cars.append(\"Fiesta\")\n",
    "ford_garage.cars.append(\"Focus\")\n",
    "print(ford_garage.__dict__)\n",
    "ford_garage[1]= \"Other\"\n",
    "ford_garage.__dict__"
   ]
  },
  {
   "cell_type": "markdown",
   "id": "d778e26c-9555-491d-8471-c24e3627bccd",
   "metadata": {},
   "source": [
    "### iter method"
   ]
  },
  {
   "cell_type": "markdown",
   "id": "3151bc02-1603-48e0-8dfd-6dfded4ef0a6",
   "metadata": {},
   "source": [
    "__iter__ method is used to provide a generator object for the provided instance. We can make use of iter() and next() method to leverage __iter__ method."
   ]
  },
  {
   "cell_type": "code",
   "execution_count": 12,
   "id": "45072bb9-c935-4966-9e1d-cf548d1ae64e",
   "metadata": {
    "tags": []
   },
   "outputs": [],
   "source": [
    "class Garage:\n",
    "    def __init__(self):\n",
    "        self.cars = []\n",
    "    def __iter__(self):\n",
    "        for car in self.cars:\n",
    "            yield car"
   ]
  },
  {
   "cell_type": "code",
   "execution_count": 14,
   "id": "65a24259-112b-4409-91d1-e6be6d4ebc24",
   "metadata": {
    "tags": []
   },
   "outputs": [],
   "source": [
    "ford_garage = Garage()\n",
    "ford_garage.cars.append(\"Fiesta\")\n",
    "ford_garage.cars.append(\"Focus\")"
   ]
  },
  {
   "cell_type": "code",
   "execution_count": 16,
   "id": "5e914614-3f4a-43b7-8f93-10264cd68ed6",
   "metadata": {
    "tags": []
   },
   "outputs": [
    {
     "data": {
      "text/plain": [
       "'Fiesta'"
      ]
     },
     "execution_count": 16,
     "metadata": {},
     "output_type": "execute_result"
    }
   ],
   "source": [
    "i = iter(ford_garage)\n",
    "next(i)"
   ]
  },
  {
   "cell_type": "code",
   "execution_count": 17,
   "id": "827e8f2c-2d19-440b-9434-87999441a312",
   "metadata": {
    "tags": []
   },
   "outputs": [
    {
     "data": {
      "text/plain": [
       "'Focus'"
      ]
     },
     "execution_count": 17,
     "metadata": {},
     "output_type": "execute_result"
    }
   ],
   "source": [
    "next(i)"
   ]
  },
  {
   "cell_type": "markdown",
   "id": "37133151-ebb8-40a9-8143-c78d993830b0",
   "metadata": {},
   "source": [
    "### repr and str Methods"
   ]
  },
  {
   "cell_type": "markdown",
   "id": "1fc9c9be-88bb-4726-9d25-943219889d41",
   "metadata": {},
   "source": [
    "If you want to print your objects out (and sometimes during development it can be handy, as we’ll see), we can use `__repr__` and `__str__`:\n",
    "\n",
    "* `__repr__` should be used to print out a string representing the object such that with that string you can re-create the object fully.\n",
    "* `__str__` should be used when printing the object out to a user, for example—can be more descriptive or even miss out some details."
   ]
  },
  {
   "cell_type": "code",
   "execution_count": 44,
   "id": "5e5e2a53-a1a2-4fc4-bf7b-2daafe2a5137",
   "metadata": {
    "tags": []
   },
   "outputs": [],
   "source": [
    "class Garage:\n",
    "    def __init__(self):\n",
    "        self.cars = []\n",
    "\n",
    "    def __repr__(self):\n",
    "        return f\"Garage {self.cars}\"\n",
    "\n",
    "    def __str__(self):\n",
    "        return f\"Garage with {len(self.cars)} cars\""
   ]
  },
  {
   "cell_type": "code",
   "execution_count": 45,
   "id": "febf0af6-0571-4fbe-8e2d-27c261160cac",
   "metadata": {
    "tags": []
   },
   "outputs": [
    {
     "name": "stdout",
     "output_type": "stream",
     "text": [
      "Garage with 2 cars\n",
      "Garage with 2 cars\n",
      "Garage ['Fiesta', 'Focus']\n"
     ]
    }
   ],
   "source": [
    "garage = Garage()\n",
    "garage.cars.append(\"Fiesta\")\n",
    "garage.cars.append(\"Focus\")\n",
    "\n",
    "print(garage)\n",
    "print(str(garage))\n",
    "print(repr(garage))"
   ]
  },
  {
   "cell_type": "markdown",
   "id": "db35bd26-2628-412b-a644-7dc6c195f313",
   "metadata": {},
   "source": [
    "### call method"
   ]
  },
  {
   "cell_type": "markdown",
   "id": "a295aac8-dbf4-4c5d-9e4f-f8501c5f97bc",
   "metadata": {},
   "source": [
    "__call__ can be particularly useful in classes with instances that need to often change their state. \"Calling\" the instance can be an intuitive and elegant way to change the object's state."
   ]
  },
  {
   "cell_type": "code",
   "execution_count": 46,
   "id": "1872e405-e6c4-470b-a963-100673154072",
   "metadata": {
    "tags": []
   },
   "outputs": [],
   "source": [
    "class CallExample:\n",
    "    def __init__(self, val):\n",
    "        self.val = val\n",
    "    def __call__(self, b):\n",
    "        return self.val * b"
   ]
  },
  {
   "cell_type": "code",
   "execution_count": 47,
   "id": "4d21e457-2551-42e4-ae57-0ede7dba00bf",
   "metadata": {
    "tags": []
   },
   "outputs": [
    {
     "data": {
      "text/plain": [
       "30"
      ]
     },
     "execution_count": 47,
     "metadata": {},
     "output_type": "execute_result"
    }
   ],
   "source": [
    "call_example = CallExample(5)\n",
    "call_example(6)"
   ]
  },
  {
   "cell_type": "code",
   "execution_count": 48,
   "id": "4f8d9349-b091-47a7-a119-f209c86b54db",
   "metadata": {
    "tags": []
   },
   "outputs": [],
   "source": [
    "class MyClass(object):\n",
    "\n",
    "    def __init__(self, var_one, var_two, var_three):\n",
    "        self.var_1 = var_one\n",
    "        self.var_2 = var_two\n",
    "        self.var_3 = var_three\n",
    "\n",
    "    # def __call__(self, var1, var2):\n",
    "    #     self.var_1 = var1\n",
    "    #     self.var_2 = var2\n",
    "\n",
    "    def __call__(self, *vars):\n",
    "        self.var_1, self.var_2 = vars\n"
   ]
  },
  {
   "cell_type": "code",
   "execution_count": 51,
   "id": "92c80f6b-2d38-4d4e-b1e4-4cd4cb14e9f9",
   "metadata": {
    "tags": []
   },
   "outputs": [
    {
     "name": "stdout",
     "output_type": "stream",
     "text": [
      "{'var_1': 1, 'var_2': 2, 'var_3': 3}\n",
      "139930646192304 \n",
      "\n",
      "{'var_1': 200, 'var_2': 300, 'var_3': 3}\n",
      "139930646192304 \n",
      "\n"
     ]
    }
   ],
   "source": [
    "obj = MyClass(1, 2, 3)\n",
    "\n",
    "print(obj.__dict__)\n",
    "print(id(obj), '\\n')\n",
    "\n",
    "# Now, lets change the objects state\n",
    "\n",
    "obj (200, 300)\n",
    "\n",
    "print(obj.__dict__)\n",
    "print(id(obj), '\\n')\n"
   ]
  },
  {
   "cell_type": "markdown",
   "id": "cd0904ad-9555-460f-af25-cbd347f8dfcc",
   "metadata": {},
   "source": [
    "### enter and exit methods"
   ]
  },
  {
   "cell_type": "code",
   "execution_count": 58,
   "id": "aad0c44c-144a-46d3-86a1-58d205a92381",
   "metadata": {
    "tags": []
   },
   "outputs": [],
   "source": [
    "class WriteFile:\n",
    "    def __init__(self, file_name):\n",
    "        self.file_name = file_name\n",
    "        self.file = None\n",
    "    def log(self, text):\n",
    "        self.file.write(text+'\\n')\n",
    "    def __enter__(self):\n",
    "        self.file = open(self.file_name, \"a+\")\n",
    "        return self    \n",
    "    def __exit__(self, exc_type, exc_val, exc_tb):\n",
    "        self.file.close()"
   ]
  },
  {
   "cell_type": "code",
   "execution_count": 59,
   "id": "59678023-9ca7-4e62-95a6-087d8b278c14",
   "metadata": {
    "tags": []
   },
   "outputs": [],
   "source": [
    "with WriteFile(r\"filename.txt\") as log_file:\n",
    "    log_file.log(\"Log Test 1\")\n",
    "    log_file.log(\"Log Test 2\")"
   ]
  },
  {
   "cell_type": "markdown",
   "id": "2e004933-9b50-4296-8a88-8fa8cf76f361",
   "metadata": {},
   "source": [
    "### lt, gt, le, ge, eq, and ne  methods"
   ]
  },
  {
   "cell_type": "code",
   "execution_count": 63,
   "id": "46f454d9-f39f-48a3-8795-308600ed99ea",
   "metadata": {
    "tags": []
   },
   "outputs": [],
   "source": [
    "class Comparison:\n",
    "    def __init__(self, a):\n",
    "        self.a = a\n",
    "        \n",
    "    def __lt__(self, object2):\n",
    "        return self.a < object2.a\n",
    "    \n",
    "    def __gt__(self, object2):\n",
    "        return self.a > object2.a\n",
    "    \n",
    "    def __le__(self, object2):\n",
    "        return self.a <= object2.a\n",
    "    \n",
    "    def __ge__(self, object2):\n",
    "        return self.a >= object2.a\n",
    "    \n",
    "    def __eq__(self, object2):\n",
    "        return self.a == object2.a\n",
    "    \n",
    "    def __ne__(self, object2):\n",
    "        return self.a != object2.a"
   ]
  },
  {
   "cell_type": "code",
   "execution_count": 62,
   "id": "b40746a2-5c0d-4076-bd25-6eaf4bdf0baa",
   "metadata": {
    "tags": []
   },
   "outputs": [
    {
     "name": "stdout",
     "output_type": "stream",
     "text": [
      "True False True False False True\n"
     ]
    }
   ],
   "source": [
    "a = Comparison(1)\n",
    "b = Comparison(2)\n",
    "\n",
    "\n",
    "print(\n",
    "    a < b,\n",
    "    a > b,\n",
    "    a <= b,\n",
    "    a >= b,\n",
    "    a == b,\n",
    "    a != b\n",
    ")"
   ]
  },
  {
   "cell_type": "code",
   "execution_count": 10,
   "id": "a19277f0-8350-4516-a48e-0120d029d466",
   "metadata": {
    "tags": []
   },
   "outputs": [
    {
     "name": "stdout",
     "output_type": "stream",
     "text": [
      "1\n",
      "4\n",
      "9\n"
     ]
    }
   ],
   "source": []
  },
  {
   "cell_type": "code",
   "execution_count": null,
   "id": "b855ce1d-5535-47e5-a167-40b86a9a64de",
   "metadata": {},
   "outputs": [],
   "source": []
  }
 ],
 "metadata": {
  "kernelspec": {
   "display_name": "Python 3 (ipykernel)",
   "language": "python",
   "name": "python3"
  },
  "language_info": {
   "codemirror_mode": {
    "name": "ipython",
    "version": 3
   },
   "file_extension": ".py",
   "mimetype": "text/x-python",
   "name": "python",
   "nbconvert_exporter": "python",
   "pygments_lexer": "ipython3",
   "version": "3.10.11"
  }
 },
 "nbformat": 4,
 "nbformat_minor": 5
}
