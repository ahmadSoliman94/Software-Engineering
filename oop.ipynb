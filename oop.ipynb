{
 "cells": [
  {
   "cell_type": "code",
   "execution_count": 1,
   "id": "9855d829-f7bd-4e76-b4db-ac50b46901ca",
   "metadata": {},
   "outputs": [],
   "source": [
    "my_student = {\n",
    "    \"name\": \"Rolf Smith\",\n",
    "    \"grades\": [70, 88, 90, 99],\n",
    "    \"average\": 0,  # something here to calculate\n",
    "}"
   ]
  },
  {
   "cell_type": "code",
   "execution_count": 14,
   "id": "41ef03fc-9a64-4154-8eaf-25707795fcaa",
   "metadata": {},
   "outputs": [],
   "source": [
    "class Student:\n",
    "    def __init__(self, new_name, new_grades):\n",
    "        self.name = new_name\n",
    "        self.grades = new_grades\n",
    "\n",
    "    def average(self):\n",
    "        return sum(self.grades) / len(self.grades)"
   ]
  },
  {
   "cell_type": "code",
   "execution_count": 15,
   "id": "4ee5d492-19a7-4edc-b25b-f265bf873f66",
   "metadata": {},
   "outputs": [],
   "source": [
    "student_one = Student(\"Ahmed\", [70, 88, 90, 99])\n",
    "student_two = Student(\"Bashar\", [50, 60, 99, 100])"
   ]
  },
  {
   "cell_type": "code",
   "execution_count": 16,
   "id": "abc1af05-63cd-4a75-9256-0fd8cddf50a0",
   "metadata": {},
   "outputs": [
    {
     "name": "stdout",
     "output_type": "stream",
     "text": [
      "Ahmed\n",
      "Bashar\n"
     ]
    }
   ],
   "source": [
    "print(student_one.name)\n",
    "print(student_two.name)"
   ]
  },
  {
   "cell_type": "code",
   "execution_count": 17,
   "id": "d28d7106-11e2-44ba-ad4f-3a328cae8ad0",
   "metadata": {},
   "outputs": [
    {
     "data": {
      "text/plain": [
       "86.75"
      ]
     },
     "execution_count": 17,
     "metadata": {},
     "output_type": "execute_result"
    }
   ],
   "source": [
    "student_one.average()"
   ]
  },
  {
   "cell_type": "code",
   "execution_count": 18,
   "id": "acee1e5d-1a0b-4dcf-b7a6-3376ec616661",
   "metadata": {},
   "outputs": [
    {
     "ename": "TypeError",
     "evalue": "Student.average() missing 1 required positional argument: 'self'",
     "output_type": "error",
     "traceback": [
      "\u001b[0;31m---------------------------------------------------------------------------\u001b[0m",
      "\u001b[0;31mTypeError\u001b[0m                                 Traceback (most recent call last)",
      "Cell \u001b[0;32mIn[18], line 1\u001b[0m\n\u001b[0;32m----> 1\u001b[0m \u001b[43mStudent\u001b[49m\u001b[38;5;241;43m.\u001b[39;49m\u001b[43maverage\u001b[49m\u001b[43m(\u001b[49m\u001b[43m)\u001b[49m\n",
      "\u001b[0;31mTypeError\u001b[0m: Student.average() missing 1 required positional argument: 'self'"
     ]
    }
   ],
   "source": [
    "Student.average()"
   ]
  },
  {
   "cell_type": "markdown",
   "id": "600a2933-95a8-4bf0-b364-1f33a6b73be6",
   "metadata": {},
   "source": [
    "## Inheritance"
   ]
  },
  {
   "cell_type": "code",
   "execution_count": 19,
   "id": "d94b45fb-d478-49dd-bc8b-29ccc242273a",
   "metadata": {},
   "outputs": [],
   "source": [
    "class Student:\n",
    "    def __init__(self, name, school):\n",
    "        self.name = name\n",
    "        self.school = school\n",
    "        self.marks = []\n",
    "\n",
    "    def average(self):\n",
    "        return sum(self.marks) / len(self.marks)\n"
   ]
  },
  {
   "cell_type": "code",
   "execution_count": 20,
   "id": "833ef4b3-0339-4302-95e6-ede7857c971c",
   "metadata": {},
   "outputs": [],
   "source": [
    "ahmed = Student(\"Ahmed\", \"Oxford\")"
   ]
  },
  {
   "cell_type": "code",
   "execution_count": 22,
   "id": "2a043ae6-c254-4915-a1a3-dea405ef4fb8",
   "metadata": {},
   "outputs": [],
   "source": [
    "class WorkingStudent:\n",
    "    def __init__(self, name, school, salary):\n",
    "        self.name = name\n",
    "        self.school = school\n",
    "        self.marks = []\n",
    "        self.salary = salary\n",
    "\n",
    "    def average(self):\n",
    "        return sum(self.marks) / len(self.marks)"
   ]
  },
  {
   "cell_type": "code",
   "execution_count": 23,
   "id": "668d2d7c-19e5-4272-8531-7a529678253d",
   "metadata": {},
   "outputs": [],
   "source": [
    "freed = WorkingStudent(\"Freed\", \"MIT\", 15.50)"
   ]
  },
  {
   "cell_type": "code",
   "execution_count": 26,
   "id": "c336b80b-3792-42fb-a57a-390a4cec2fbb",
   "metadata": {},
   "outputs": [],
   "source": [
    "class WorkingStudent(Student):\n",
    "    def __init__(self, name, school, salary):\n",
    "        super().__init__(name, school)\n",
    "        self.salary = salary"
   ]
  },
  {
   "cell_type": "code",
   "execution_count": 36,
   "id": "d62127ce-a0b6-40af-b149-d00036cfea3d",
   "metadata": {},
   "outputs": [
    {
     "data": {
      "text/plain": [
       "78.0"
      ]
     },
     "execution_count": 36,
     "metadata": {},
     "output_type": "execute_result"
    }
   ],
   "source": [
    "freed = WorkingStudent(\"Freed\", \"MIT\", 15.50)\n",
    "freed.marks.append(57)\n",
    "freed.marks.append(99)\n"
   ]
  },
  {
   "cell_type": "code",
   "execution_count": 37,
   "id": "d135a241-58e5-438a-aa29-ac4711c92356",
   "metadata": {},
   "outputs": [
    {
     "data": {
      "text/plain": [
       "78.0"
      ]
     },
     "execution_count": 37,
     "metadata": {},
     "output_type": "execute_result"
    }
   ],
   "source": [
    "freed.average()"
   ]
  },
  {
   "cell_type": "markdown",
   "id": "29bf1854-3b79-469e-8a68-37fde06fe2f5",
   "metadata": {},
   "source": [
    "### @property"
   ]
  },
  {
   "cell_type": "code",
   "execution_count": 33,
   "id": "0ba5526f-fec9-42a3-b1ac-63aff87b0122",
   "metadata": {},
   "outputs": [],
   "source": [
    "class Student:\n",
    "    def __init__(self, name, school):\n",
    "        self.name = name\n",
    "        self.school = school\n",
    "        self.marks = []\n",
    "\n",
    "    #@property\n",
    "    def average(self):\n",
    "        return sum(self.marks) / len(self.marks)\n"
   ]
  },
  {
   "cell_type": "code",
   "execution_count": 34,
   "id": "529a29e5-fa9a-46c4-a2db-43b9180bbfa5",
   "metadata": {},
   "outputs": [],
   "source": [
    "mohammad = Student(\"Mohammad\", \"Stanford\")\n",
    "mohammad.marks.append(80)\n",
    "mohammad.marks.append(90)"
   ]
  },
  {
   "cell_type": "code",
   "execution_count": 35,
   "id": "3091f483-017c-44e2-bb03-f9ccce406f90",
   "metadata": {},
   "outputs": [
    {
     "data": {
      "text/plain": [
       "85.0"
      ]
     },
     "execution_count": 35,
     "metadata": {},
     "output_type": "execute_result"
    }
   ],
   "source": [
    "mohammad.average()"
   ]
  },
  {
   "cell_type": "markdown",
   "id": "9854babd-c9a6-40de-a6cc-20c5d87543f6",
   "metadata": {},
   "source": [
    "## @classmethod"
   ]
  },
  {
   "cell_type": "code",
   "execution_count": 61,
   "id": "7dcade05-19c9-47a1-b26f-92bed4477dae",
   "metadata": {},
   "outputs": [],
   "source": [
    "class Foo:\n",
    "    @classmethod\n",
    "    def hi(cls):\n",
    "        print(cls.__name__)"
   ]
  },
  {
   "cell_type": "code",
   "execution_count": 62,
   "id": "f1f40153-94ec-4208-abe0-c6901242fb89",
   "metadata": {},
   "outputs": [
    {
     "name": "stdout",
     "output_type": "stream",
     "text": [
      "Foo\n"
     ]
    }
   ],
   "source": [
    "my_object = Foo()\n",
    "my_object.hi() "
   ]
  },
  {
   "cell_type": "markdown",
   "id": "a6d8a584-6de3-4603-a1f3-967511ef5cd8",
   "metadata": {},
   "source": [
    "## @staticmethod"
   ]
  },
  {
   "cell_type": "code",
   "execution_count": 57,
   "id": "ab9df801-0817-4394-9368-4583dcc8dbe9",
   "metadata": {},
   "outputs": [],
   "source": [
    "class Foo:\n",
    "    @staticmethod\n",
    "    def hi():\n",
    "        print(\"I don't take arguments!\")"
   ]
  },
  {
   "cell_type": "code",
   "execution_count": 58,
   "id": "410fda08-e76e-44f9-9031-a734253b0574",
   "metadata": {},
   "outputs": [
    {
     "name": "stdout",
     "output_type": "stream",
     "text": [
      "I don't take arguments!\n"
     ]
    }
   ],
   "source": [
    "my_object = Foo()\n",
    "my_object.hi()"
   ]
  },
  {
   "cell_type": "markdown",
   "id": "7dcab062-535b-4d9a-89d8-d2cae4f3f1c4",
   "metadata": {},
   "source": [
    "### Examples"
   ]
  },
  {
   "cell_type": "code",
   "execution_count": 63,
   "id": "4fe36945-c87a-45cd-9af9-569dcc539751",
   "metadata": {},
   "outputs": [],
   "source": [
    "class FixedFloat:\n",
    "    def __init__(self, amount):\n",
    "        self.amount = amount\n",
    "\n",
    "    def __repr__(self):\n",
    "        return f\"<FixedFloat {self.amount:.2f}>\""
   ]
  },
  {
   "cell_type": "code",
   "execution_count": 64,
   "id": "70698599-4662-4870-83fe-ea4edd8558b0",
   "metadata": {},
   "outputs": [
    {
     "name": "stdout",
     "output_type": "stream",
     "text": [
      "<FixedFloat 18.57>\n"
     ]
    }
   ],
   "source": [
    "number = FixedFloat(18.5746)\n",
    "print(number) "
   ]
  },
  {
   "cell_type": "code",
   "execution_count": 65,
   "id": "93373b02-f045-42cb-be12-4a5d56c41197",
   "metadata": {},
   "outputs": [],
   "source": [
    "class FixedFloat:\n",
    "    def __init__(self, amount):\n",
    "        self.amount = amount\n",
    "\n",
    "    def __repr__(self):\n",
    "        return f\"<FixedFloat {self.amount:.2f}>\"\n",
    "\n",
    "    def from_sum(self, value1, value2):\n",
    "        return FixedFloat(value1 + value2)"
   ]
  },
  {
   "cell_type": "code",
   "execution_count": 66,
   "id": "08324712-bfbb-45f8-b475-28969d1bbf4f",
   "metadata": {},
   "outputs": [
    {
     "name": "stdout",
     "output_type": "stream",
     "text": [
      "<FixedFloat 20.36>\n"
     ]
    }
   ],
   "source": [
    "number = FixedFloat(18.5746)\n",
    "new_number = number.from_sum(19.575, 0.789)\n",
    "print(new_number)"
   ]
  },
  {
   "cell_type": "code",
   "execution_count": 67,
   "id": "98a775b8-d393-473a-a5a1-ced7e0b15c9e",
   "metadata": {},
   "outputs": [],
   "source": [
    "class FixedFloat:\n",
    "    def __init__(self, amount):\n",
    "        self.amount = amount\n",
    "\n",
    "    def __repr__(self):\n",
    "        return f\"<FixedFloat {self.amount:.2f}>\"\n",
    "\n",
    "    @staticmethod\n",
    "    def from_sum(value1, value2):\n",
    "        return FixedFloat(value1 + value2)"
   ]
  },
  {
   "cell_type": "code",
   "execution_count": 68,
   "id": "deb3a705-29f9-447f-8850-2ec7f8ffc3da",
   "metadata": {},
   "outputs": [
    {
     "name": "stdout",
     "output_type": "stream",
     "text": [
      "<FixedFloat 20.36>\n"
     ]
    }
   ],
   "source": [
    "static_number = FixedFloat.from_sum(19.575, 0.789)\n",
    "print(static_number)"
   ]
  },
  {
   "cell_type": "code",
   "execution_count": 69,
   "id": "a7e1da3c-f58d-464d-bc36-e57a78a70d13",
   "metadata": {},
   "outputs": [],
   "source": [
    "class Euro(FixedFloat):\n",
    "    def __init__(self, amount):\n",
    "        super().__init__(amount)\n",
    "        self.symbol = \"€\"\n",
    "\n",
    "    def __repr__(self):\n",
    "        return f\"<Euro {self.symbol}{self.amount:.2f}>\""
   ]
  },
  {
   "cell_type": "code",
   "execution_count": 70,
   "id": "ddae929c-caa3-4fb9-b2ed-08cfa4cd5ee4",
   "metadata": {},
   "outputs": [
    {
     "name": "stdout",
     "output_type": "stream",
     "text": [
      "<Euro €18.60>\n",
      "<FixedFloat 35.66>\n"
     ]
    }
   ],
   "source": [
    "euros = Euro(18.5963)\n",
    "print(euros) \n",
    "\n",
    "result = Euro.from_sum(15.76, 19.905)\n",
    "print(result) "
   ]
  },
  {
   "cell_type": "code",
   "execution_count": 71,
   "id": "724e1eae-038f-4a35-8f2b-7856a15c7734",
   "metadata": {},
   "outputs": [],
   "source": [
    "class FixedFloat:\n",
    "    def __init__(self, amount):\n",
    "        self.amount = amount\n",
    "\n",
    "    def __repr__(self):\n",
    "        return f\"<FixedFloat {self.amount:.2f}>\"\n",
    "\n",
    "    @classmethod\n",
    "    def from_sum(cls, value1, value2):\n",
    "        return cls(value1 + value2)\n",
    "\n",
    "\n",
    "class Euro(FixedFloat):\n",
    "    def __init__(self, amount):\n",
    "        super().__init__(amount)\n",
    "        self.symbol = \"€\"\n",
    "\n",
    "    def __repr__(self):\n",
    "        return f\"<Euro {self.symbol}{self.amount:.2f}>\""
   ]
  },
  {
   "cell_type": "code",
   "execution_count": 73,
   "id": "e7f2d05f-c29e-429c-bc8e-670d3c1d1783",
   "metadata": {},
   "outputs": [
    {
     "data": {
      "text/plain": [
       "<Euro €106.76>"
      ]
     },
     "execution_count": 73,
     "metadata": {},
     "output_type": "execute_result"
    }
   ],
   "source": [
    "Euro.from_sum(16.7565, 90)"
   ]
  },
  {
   "cell_type": "code",
   "execution_count": null,
   "id": "54260cf9-f264-4c3e-9bc7-7c3c1a8a3403",
   "metadata": {},
   "outputs": [],
   "source": []
  }
 ],
 "metadata": {
  "kernelspec": {
   "display_name": "Python 3 (ipykernel)",
   "language": "python",
   "name": "python3"
  },
  "language_info": {
   "codemirror_mode": {
    "name": "ipython",
    "version": 3
   },
   "file_extension": ".py",
   "mimetype": "text/x-python",
   "name": "python",
   "nbconvert_exporter": "python",
   "pygments_lexer": "ipython3",
   "version": "3.10.11"
  }
 },
 "nbformat": 4,
 "nbformat_minor": 5
}
